{
  "nbformat": 4,
  "nbformat_minor": 0,
  "metadata": {
    "colab": {
      "provenance": [],
      "gpuType": "T4"
    },
    "kernelspec": {
      "name": "python3",
      "display_name": "Python 3"
    },
    "language_info": {
      "name": "python"
    },
    "accelerator": "GPU"
  },
  "cells": [
    {
      "cell_type": "code",
      "execution_count": 1,
      "metadata": {
        "id": "QMOHa5ND6HYw",
        "colab": {
          "base_uri": "https://localhost:8080/"
        },
        "outputId": "530d7ddd-49b0-4f7b-ec86-3ad4dcdb5339"
      },
      "outputs": [
        {
          "output_type": "stream",
          "name": "stdout",
          "text": [
            "\u001b[?25l   \u001b[90m━━━━━━━━━━━━━━━━━━━━━━━━━━━━━━━━━━━━━━━━\u001b[0m \u001b[32m0.0/2.5 MB\u001b[0m \u001b[31m?\u001b[0m eta \u001b[36m-:--:--\u001b[0m\r\u001b[2K   \u001b[90m━━━━━━━━━━━━━━━━━━━━━━━━━━━━━━━━━━━━━━━━\u001b[0m \u001b[32m2.5/2.5 MB\u001b[0m \u001b[31m83.3 MB/s\u001b[0m eta \u001b[36m0:00:00\u001b[0m\n",
            "\u001b[?25h\u001b[?25l   \u001b[90m━━━━━━━━━━━━━━━━━━━━━━━━━━━━━━━━━━━━━━━━\u001b[0m \u001b[32m0.0/44.4 kB\u001b[0m \u001b[31m?\u001b[0m eta \u001b[36m-:--:--\u001b[0m\r\u001b[2K   \u001b[90m━━━━━━━━━━━━━━━━━━━━━━━━━━━━━━━━━━━━━━━━\u001b[0m \u001b[32m44.4/44.4 kB\u001b[0m \u001b[31m3.0 MB/s\u001b[0m eta \u001b[36m0:00:00\u001b[0m\n",
            "\u001b[2K   \u001b[90m━━━━━━━━━━━━━━━━━━━━━━━━━━━━━━━━━━━━━━━━\u001b[0m \u001b[32m50.9/50.9 kB\u001b[0m \u001b[31m4.5 MB/s\u001b[0m eta \u001b[36m0:00:00\u001b[0m\n",
            "\u001b[2K   \u001b[90m━━━━━━━━━━━━━━━━━━━━━━━━━━━━━━━━━━━━━━━━\u001b[0m \u001b[32m65.2/65.2 kB\u001b[0m \u001b[31m6.6 MB/s\u001b[0m eta \u001b[36m0:00:00\u001b[0m\n",
            "\u001b[2K   \u001b[90m━━━━━━━━━━━━━━━━━━━━━━━━━━━━━━━━━━━━━━━━\u001b[0m \u001b[32m438.1/438.1 kB\u001b[0m \u001b[31m31.7 MB/s\u001b[0m eta \u001b[36m0:00:00\u001b[0m\n",
            "\u001b[2K   \u001b[90m━━━━━━━━━━━━━━━━━━━━━━━━━━━━━━━━━━━━━━━━\u001b[0m \u001b[32m363.0/363.0 kB\u001b[0m \u001b[31m30.0 MB/s\u001b[0m eta \u001b[36m0:00:00\u001b[0m\n",
            "\u001b[?25hCollecting youtube_transcript_api\n",
            "  Downloading youtube_transcript_api-1.0.3-py3-none-any.whl.metadata (23 kB)\n",
            "Requirement already satisfied: defusedxml<0.8.0,>=0.7.1 in /usr/local/lib/python3.11/dist-packages (from youtube_transcript_api) (0.7.1)\n",
            "Requirement already satisfied: requests in /usr/local/lib/python3.11/dist-packages (from youtube_transcript_api) (2.32.3)\n",
            "Requirement already satisfied: charset-normalizer<4,>=2 in /usr/local/lib/python3.11/dist-packages (from requests->youtube_transcript_api) (3.4.2)\n",
            "Requirement already satisfied: idna<4,>=2.5 in /usr/local/lib/python3.11/dist-packages (from requests->youtube_transcript_api) (3.10)\n",
            "Requirement already satisfied: urllib3<3,>=1.21.1 in /usr/local/lib/python3.11/dist-packages (from requests->youtube_transcript_api) (2.4.0)\n",
            "Requirement already satisfied: certifi>=2017.4.17 in /usr/local/lib/python3.11/dist-packages (from requests->youtube_transcript_api) (2025.4.26)\n",
            "Downloading youtube_transcript_api-1.0.3-py3-none-any.whl (2.2 MB)\n",
            "\u001b[2K   \u001b[90m━━━━━━━━━━━━━━━━━━━━━━━━━━━━━━━━━━━━━━━━\u001b[0m \u001b[32m2.2/2.2 MB\u001b[0m \u001b[31m69.8 MB/s\u001b[0m eta \u001b[36m0:00:00\u001b[0m\n",
            "\u001b[?25hInstalling collected packages: youtube_transcript_api\n",
            "Successfully installed youtube_transcript_api-1.0.3\n",
            "Collecting pytube\n",
            "  Downloading pytube-15.0.0-py3-none-any.whl.metadata (5.0 kB)\n",
            "Downloading pytube-15.0.0-py3-none-any.whl (57 kB)\n",
            "\u001b[2K   \u001b[90m━━━━━━━━━━━━━━━━━━━━━━━━━━━━━━━━━━━━━━━━\u001b[0m \u001b[32m57.6/57.6 kB\u001b[0m \u001b[31m4.9 MB/s\u001b[0m eta \u001b[36m0:00:00\u001b[0m\n",
            "\u001b[?25hInstalling collected packages: pytube\n",
            "Successfully installed pytube-15.0.0\n"
          ]
        }
      ],
      "source": [
        "!pip install --upgrade --quiet langchain\n",
        "#!pip install --upgrade --quiet langchain   # This line is commented out.\n",
        "!pip install --quiet langchain-community\n",
        "!pip install --upgrade --quiet langchain-together\n",
        "!pip install youtube_transcript_api\n",
        "!pip install pytube\n"
      ]
    },
    {
      "cell_type": "code",
      "source": [
        "from langchain_together import ChatTogether\n",
        "import api_key\n",
        "\n",
        "llm = ChatTogether(api_key=api_key.api,temperature=0.0,\n",
        "                   model=\"meta-llama/Meta-Llama-3.1-8B-Instruct-Turbo\")"
      ],
      "metadata": {
        "id": "_lm1SVjd6jwU"
      },
      "execution_count": 6,
      "outputs": []
    },
    {
      "cell_type": "code",
      "source": [
        "pip show youtube-transcript-api\n"
      ],
      "metadata": {
        "colab": {
          "base_uri": "https://localhost:8080/"
        },
        "id": "0Xg7zWX862FP",
        "outputId": "fd6c21c0-e4be-4a16-ab89-53ae605ae618"
      },
      "execution_count": 8,
      "outputs": [
        {
          "output_type": "stream",
          "name": "stdout",
          "text": [
            "Name: youtube-transcript-api\n",
            "Version: 1.0.3\n",
            "Summary: This is an python API which allows you to get the transcripts/subtitles for a given YouTube video. It also works for automatically generated subtitles, supports translating subtitles and it does not require a headless browser, like other selenium based solutions do!\n",
            "Home-page: https://github.com/jdepoix/youtube-transcript-api\n",
            "Author: Jonas Depoix\n",
            "Author-email: jonas.depoix@web.de\n",
            "License: MIT\n",
            "Location: /usr/local/lib/python3.11/dist-packages\n",
            "Requires: defusedxml, requests\n",
            "Required-by: \n"
          ]
        }
      ]
    },
    {
      "cell_type": "code",
      "source": [
        "from youtube_transcript_api import YouTubeTranscriptApi\n",
        "from langchain_community.document_loaders import YoutubeLoader\n",
        "\n",
        "video_url = 'https://www.youtube.com/watch?v=ssmlfH0bmi0&ab_channel=ShaneHummus'\n",
        "video_id = YoutubeLoader.extract_video_id(video_url)\n",
        "\n",
        "transcript = YouTubeTranscriptApi.get_transcript(video_id)\n",
        "\n",
        "# Combine all transcript pieces into a single string\n",
        "full_transcript = \" \".join([entry['text'] for entry in transcript])\n",
        "\n",
        "# Create a Document object with the transcript\n",
        "from langchain_core.documents import Document\n",
        "data = [Document(page_content=full_transcript, metadata={\"video_id\": video_id})]\n",
        "\n",
        "print(f\"Video ID: {video_id}\")\n",
        "print(f\"Transcript data: {data}\")\n",
        "\n"
      ],
      "metadata": {
        "colab": {
          "base_uri": "https://localhost:8080/"
        },
        "id": "d9p8LXlk7oT_",
        "outputId": "ba02a205-edbe-4bc6-a314-4ac60821543e"
      },
      "execution_count": 2,
      "outputs": [
        {
          "output_type": "stream",
          "name": "stdout",
          "text": [
            "Video ID: ssmlfH0bmi0\n",
            "Transcript data: [Document(metadata={'video_id': 'ssmlfH0bmi0'}, page_content=\"today we're going to be diving into something that might just blow your mind imagine getting a Harvard Education for free no this isn't a glitch in The Matrix and no you don't need a time machine or a small fortune we're talking about five incredible free online courses from Harvard that could Skyrocket your careers faster than you can say Veritas so whether you're a tech Enthusiast a data Dynamo or a Wordsmith in the making there's something here for you but before we dive in let's address the elephant in the room yes these are courses that are actually from Harvard yes they're completely free and no you don't need to be a genius to take them all you need is curiosity and the willingness to learn so buckle up grab your favorite note ticking tool and let's embark on this ivy league Adventure kicking off our list is the crown jewel of Harvard's online offerings which is the cs50 introduction to computer science now I know what some of you might be thinking computer science isn't that just for Tech Geeks well hold on to your hoodies because this course is about to change your perception faster than you can say hello world cs50 is not just a course it's a phenomenon it's Harvard's largest course on campus and has become one of the most popular M's or mukes which stands for massive open online courses globally now according to class Central as of 2023 over 3.7 million people have enrolled in cs50 online that's more than the population of some countries but what makes cs50 so special well it's like the Swiss army knife of Tech courses you'll learn scratch which is a beginner-friendly programming language you'll learn C which is the grandfather of modern programming languages you'll learn python which is the Swiss army knife of coding you'll learn SQL which is the language that makes databases sing plus you're going to learn HTML CSS and JavaScript which is the Holy Trinity of web development and that's just scratching the surface but don't just take my word for it let's hear from someone who's been through the cs50 gauntlet Sarah said before cs50 I thought algorithms were just for Tech Geniuses now I use algorithmic thinking in my everyday life from optimizing my grocery shopping to managing projects at work it's like I've been given a new pair of eyes to see the world now I know what you're thinking this sounds great but is it really for beginners and the answer is a resounding yes David J Milan the charismatic Professor behind cs50 has a knack for making complex Concepts digestible and he once explained memory allocation using a phone book and a saw Yes you heard that right but cs50 isn't just about learning to code it's about developing a problemsolving mindset that can be applied to any field so whether you're a marketer trying to optimize campaigns a teacher developing a curriculum or an entrepreneur building the next big thing the computational thinking skills you'll gain from cs50 are invaluable and the best part you can take this course at your own pace where whether you're a night owl coding at 2: a.m. or an early bird catching the programming worm cs50 fits into your schedule so are you ready to embark on this computational journey remember in the words of Professor Milan what ultimately matters in this course is not so much where you end up relative to your classmates but where you end up relative to yourself when you begin now let's move on to our next course which is going to turn you into a data wizard faster than you can say are you ready welcome to the world of data science specifically R Basics and no we're not talking about courses for pirates although shouting R might become your new favorite thing this course is part of Harvard's professional certificate in data science program and it's your ticket to becoming a data Dynamo but why are you might ask well in the words of Hadley Wickham Chief scientist at R Studio R is a language for people who want to get things done it's not a language for computer scientists it's a language for scientists who compute in other words R is the Swiss army knife of data science it's versatile powerful and once you get the hang of it it's incredibly fun to use so what exactly will you learn from this course well buckle up because we're about to take a deep dive so first of all there's our syntax the grammar of data science then there's data types understanding the building blocks of information then you've got vectors which is your new best friend in data manipulation then you've got sorting because sometimes order matters then you've got data frames which is the PowerHouse of data organization and then you've got data visualization which is turning numbers into I candy now I know what some of you might be thinking data science sounds boring it's just staring at numbers all day right well let me stop you right there data science is like being a detective in the digital age you're uncovering hidden patterns solving complex puzzles and sometimes pred the future so it's kind of like having a superpower don't believe me let's hear from someone who's been through this course this person says before taking the course I thought data science was all about complex mathematics but R Basics showed me that it's really about telling stories with data now I use R in my marketing to analyze campaign performance and it's revolutionized how we make decisions but why should you care about data science well according to the US Bureau of Labor Statistics the employment of data scientists is projected to grow 36% from 2021 to 2031 much faster than the average for all occupation patients that's not just growth that's an explosion and it's not just tech companies that need data scientists from Healthcare to finance from Sports to entertainment every industry is looking for people who can make sense of their data so by learning R you're not just picking up a new skill you're opening doors to countless opportunities but here's the kicker this course isn't just about learning R it's about developing a data driven mindset you'll learn to ask the right questions approach the problem systematically and communicate your findings effectively and these are skills that will serve you well in any career and the best part you can learn all of this for free at your own pace from the comfort of your favorite chair whether you're a complete beginner or someone looking to add another tool to your data science tool cut this course has something for you so are you ready to speak the language of data remember in the world of data science curiosity is your greatest asset and as the famous statistician John Tuki once said the best thing about being a statistician is that you get to play in everyone's backyard now let's switch gears and dive into a field that's Bridging the Gap between the humanities and the digital world so get ready to become a digital Renaissance person welcome to the fast fting world of digital Humanities now I know what you're thinking digital Humanities isn't that like reading Shakespeare on a Kindle well hold on to your ebooks because it's so much more than that digital Humanities is where technology meets culture where algorithms meet art and where data meets storytelling it's like giving the humanities a superpower and this course offered by Harvard University is your ticket to becoming a cultural codebreaker but what exactly will you learn well let's break it down first there's digital tools for Humanity's research which is your new digital Swiss army knife then there's data visualization in Humanities making centuries of culture visually digestible then there's text analysis and Mining which is uncovering hidden patterns and vast amounts of text then you've got digital mapping and spatial analysis which is putting history and culture on the map literally and then you've got digital preservation and curation which is safeguarding our cultural heritage in the digital age now you might be wondering why should I care about digital Humanities why well let me ask you this have you ever wondered what Shakespeare's social network looked like or how the sentiment in Jane Austin's novel changed over time or maybe you're curious about how the language and Hip-Hop lyrics has evolved over the decades well digital Humanities gives you the tool to answer these questions and so many more so it's kind of like having a time machine and a supercomputer rolled into one but don't just take my word for it let's hear from someone who's ventured into this digital cultural Frontier as a history major I was skeptical about bringing technology into my studies but this course opened my eyes to a whole new world of possibilities and I'm now using network analysis to study the spread of ideas during the Enlightenment it's it's like being a historical detective with a really cool magnifying glass but why is digital Humanities important in today's job market well according to a 2023 report by the American Academy of Arts and Sciences employers are increasingly looking for graduates who can bridge the gap between technology and Humanities they want people who can not only crunch numbers but can also understand their cultural context in other words digital Humanities graduates are like Swiss Army knives of the job market they can code they can analyze and they can tell compelling stories with data so whether you're interested in journalism history or data analysis Anis or even Tech entrepreneurship the skills you learn in this course will give you a Unique Edge but with that being said this is one that may not directly get you a job and that's where companies like corsera come in where their certifications directly do help you to get a job and I've talked about them on this channel before I've actually done tier lists and Top 10 rankings Etc some of the professional certificates on corsera you can actually audit for free and in order to get the searchs it's usually only $40 to $50 per month so definitely check those out because the first 7 days is free regardless of what you do and I'll put those down the description in the pin comment below so click down there now let's move on to a course that's going to turn you into a modern-day Cicero get ready to master the art of persuasion and this is the art of persuasive writing and public speaking now before you run away thinking this is just about fancy words and long speeches let me stop you right there this course is about to turn you into a communication superhero and the older I get the more important that I realize communication is with all the stuff that's happening with AI there's no way that AI can make you a better Communicator that's something you just have to practice and learn on your own because rhetoric isn't just for politicians and lawyers it's a superpower that can boost your career in any field whether you're pitching an idea to your boss presenting a project to your client asking for a raise or asking your significant other to take the trash out the art of persuasion is your secret weapon so what exactly will you learn in this course well let's break it down first we got the three pillars of rhetoric ethos posos and logos which are your new best friends then you've got crafting compelling arguments because facts alone don't always cut it then you've got the power of storytelling turning dry information into captivating narratives then you've got body language and vocal techniques because how you say it is as important as what you say because one size doesn't fit all when it comes to communication I'm not a natural public speaker is this course really for me well let me let you in on a little secret most great communicators weren't born that way they learned and practice these skills and as the famous orator cisero once said the skill of speaking is not given to anyone and yet it can be acquired by everyone but don't take my word for it let's hear from someone who's been through this rhetoric boot camp before this course I was terrified of public speaking my palms would sweat my voice would shake and my mind would go blank but learning the principles of rhetoric changed everything I recently gave a presentation at work that led to a promotion and it's like I've been given a superpower but why is rhetoric so important in today's job market well according to a 2023 survey by the National Association of colleges and employers communication skills are the most sought after quality by employers ranking even higher than technical skills in many fields in other words being able to communicate effectively isn't just a nice have skill it's a musthave it's the difference between having great ideas and having great ideas that get implemented it's the secret sauce that can take your career from good to great but here's the real magic of rhetoric it's not just about speaking it's about thinking as you learn to construct your own arguments and analyze others persuasive techniques you'll find yourself becoming a more critical thinker you'll be able to see through flashy but empty arguments and craft more compelling ones of your own and the best part you can practice these skills every day every email you write every meeting you attend every conversation you have is an opportunity to apply what you learn in this course and as the philosopher Aristotle once said we are what we repeatedly do Excellence then is not an act but a habit so are you ready to become a master of persuasion remember in the world of rhetoric your words are your wand your voice is your superpower and every conversation is an opportunity to change minds and in some cases Hearts now let's dive into our final course which is going to turn you into a digital wizard get ready to enter the fascinating world of artificial intelligence welcome to the course that's going to make you feel like you're living in the future introduction to artificial intelligence with python now I know what you're thinking AI isn't that just about robots taking over the world well hold on to your neural networks because AI is so much more than that it's the technology behind your smartphone's Voice Assistant the recommendation algorithms of your favorite streaming service and even the systems that detect fraudulent transactions on your credit card in short AI is everywhere and this course is your ticket to understanding and creating it so what exactly will you learn in this course well let's break it down first of all you got Python Programming the language of AI Wizards then you've got search algorithms teaching computers to find the best Solutions then you've got knowledge representation which is how to make computers think then you've got machine learning which is giving computers the ability to learn from data and then you've got one that's very exciting which is neural networks the building blocks of deep learning and then you've got natural language processing which is helping others understand and generate human language now you might be thinking this sounds complicated do I need to be a math genius to take this course and the answer is a resounding no while some mathem matical concepts are involved the course is designed to be accessible to beginners and as the famous computer scientist Alan Turing once said we can only see a short distance ahead but we can see plenty there that needs to be done but don't just take my word for it let's hear from someone who's ventured into the AI Frontier before this course AI seemed like magic to me now I understand the principles behind it and can even create my own AI models I recently used what I learned to develop a chatbot for my company's customer service and it's been a game changer but why should you care about AI well according to a 2023 report Ai and machine learning Specialists are among the top 10 jobs with increasing demand the report predicts that by 2025 85 million jobs may be displaced by a shift in the division of labor and this division of labor is of course between humans and machines but 97 million new roles May emerge that are more adapted to this new division of labor in other words AI isn't just a cool technology it's reshaping the job market so by learning AI you're not just picking up a new skill you're future proofing your career so whether you're in healthcare Finance marketing or pretty much any other field understanding AI can give you a significant Edge but here's the real magic of AI it's not just about creating smart machines it's about solving complex problems in innovative ways as you learn to develop AI systems you'll find yourself approaching problems differently thinking more systematically and seeing patterns where others see chaos and the best part this course gives you hands-on experience you'll be coding your own AI systems from game playing agents to image recognition algorithms and as the famous computer scientist fay F Lee said if you want to make AI robust and a great technology for Humanity you've got to make it diverse so are you ready to become an AI wizard remember in the world of AI every problem is an opportunity every data set a treasure Trove and every algorithm a step toward the future so yeah these five courses are phenomenal but they may not help you directly get a job they'll teach you the underlying skills that will indirectly get you a job and they may teach you skills that will make you make way more money in the future but if you want to check out a video on training and certifications that will directly help you get a job definitely check out that video of the best corsera Sears and you can check that out by clicking right here\")]\n"
          ]
        }
      ]
    },
    {
      "cell_type": "code",
      "source": [
        "data[0].page_content"
      ],
      "metadata": {
        "colab": {
          "base_uri": "https://localhost:8080/",
          "height": 178
        },
        "id": "-HihdcQg9Pcw",
        "outputId": "603493d1-2764-4ddb-fd98-364f711ce2c3"
      },
      "execution_count": 3,
      "outputs": [
        {
          "output_type": "execute_result",
          "data": {
            "text/plain": [
              "\"today we're going to be diving into something that might just blow your mind imagine getting a Harvard Education for free no this isn't a glitch in The Matrix and no you don't need a time machine or a small fortune we're talking about five incredible free online courses from Harvard that could Skyrocket your careers faster than you can say Veritas so whether you're a tech Enthusiast a data Dynamo or a Wordsmith in the making there's something here for you but before we dive in let's address the elephant in the room yes these are courses that are actually from Harvard yes they're completely free and no you don't need to be a genius to take them all you need is curiosity and the willingness to learn so buckle up grab your favorite note ticking tool and let's embark on this ivy league Adventure kicking off our list is the crown jewel of Harvard's online offerings which is the cs50 introduction to computer science now I know what some of you might be thinking computer science isn't that just for Tech Geeks well hold on to your hoodies because this course is about to change your perception faster than you can say hello world cs50 is not just a course it's a phenomenon it's Harvard's largest course on campus and has become one of the most popular M's or mukes which stands for massive open online courses globally now according to class Central as of 2023 over 3.7 million people have enrolled in cs50 online that's more than the population of some countries but what makes cs50 so special well it's like the Swiss army knife of Tech courses you'll learn scratch which is a beginner-friendly programming language you'll learn C which is the grandfather of modern programming languages you'll learn python which is the Swiss army knife of coding you'll learn SQL which is the language that makes databases sing plus you're going to learn HTML CSS and JavaScript which is the Holy Trinity of web development and that's just scratching the surface but don't just take my word for it let's hear from someone who's been through the cs50 gauntlet Sarah said before cs50 I thought algorithms were just for Tech Geniuses now I use algorithmic thinking in my everyday life from optimizing my grocery shopping to managing projects at work it's like I've been given a new pair of eyes to see the world now I know what you're thinking this sounds great but is it really for beginners and the answer is a resounding yes David J Milan the charismatic Professor behind cs50 has a knack for making complex Concepts digestible and he once explained memory allocation using a phone book and a saw Yes you heard that right but cs50 isn't just about learning to code it's about developing a problemsolving mindset that can be applied to any field so whether you're a marketer trying to optimize campaigns a teacher developing a curriculum or an entrepreneur building the next big thing the computational thinking skills you'll gain from cs50 are invaluable and the best part you can take this course at your own pace where whether you're a night owl coding at 2: a.m. or an early bird catching the programming worm cs50 fits into your schedule so are you ready to embark on this computational journey remember in the words of Professor Milan what ultimately matters in this course is not so much where you end up relative to your classmates but where you end up relative to yourself when you begin now let's move on to our next course which is going to turn you into a data wizard faster than you can say are you ready welcome to the world of data science specifically R Basics and no we're not talking about courses for pirates although shouting R might become your new favorite thing this course is part of Harvard's professional certificate in data science program and it's your ticket to becoming a data Dynamo but why are you might ask well in the words of Hadley Wickham Chief scientist at R Studio R is a language for people who want to get things done it's not a language for computer scientists it's a language for scientists who compute in other words R is the Swiss army knife of data science it's versatile powerful and once you get the hang of it it's incredibly fun to use so what exactly will you learn from this course well buckle up because we're about to take a deep dive so first of all there's our syntax the grammar of data science then there's data types understanding the building blocks of information then you've got vectors which is your new best friend in data manipulation then you've got sorting because sometimes order matters then you've got data frames which is the PowerHouse of data organization and then you've got data visualization which is turning numbers into I candy now I know what some of you might be thinking data science sounds boring it's just staring at numbers all day right well let me stop you right there data science is like being a detective in the digital age you're uncovering hidden patterns solving complex puzzles and sometimes pred the future so it's kind of like having a superpower don't believe me let's hear from someone who's been through this course this person says before taking the course I thought data science was all about complex mathematics but R Basics showed me that it's really about telling stories with data now I use R in my marketing to analyze campaign performance and it's revolutionized how we make decisions but why should you care about data science well according to the US Bureau of Labor Statistics the employment of data scientists is projected to grow 36% from 2021 to 2031 much faster than the average for all occupation patients that's not just growth that's an explosion and it's not just tech companies that need data scientists from Healthcare to finance from Sports to entertainment every industry is looking for people who can make sense of their data so by learning R you're not just picking up a new skill you're opening doors to countless opportunities but here's the kicker this course isn't just about learning R it's about developing a data driven mindset you'll learn to ask the right questions approach the problem systematically and communicate your findings effectively and these are skills that will serve you well in any career and the best part you can learn all of this for free at your own pace from the comfort of your favorite chair whether you're a complete beginner or someone looking to add another tool to your data science tool cut this course has something for you so are you ready to speak the language of data remember in the world of data science curiosity is your greatest asset and as the famous statistician John Tuki once said the best thing about being a statistician is that you get to play in everyone's backyard now let's switch gears and dive into a field that's Bridging the Gap between the humanities and the digital world so get ready to become a digital Renaissance person welcome to the fast fting world of digital Humanities now I know what you're thinking digital Humanities isn't that like reading Shakespeare on a Kindle well hold on to your ebooks because it's so much more than that digital Humanities is where technology meets culture where algorithms meet art and where data meets storytelling it's like giving the humanities a superpower and this course offered by Harvard University is your ticket to becoming a cultural codebreaker but what exactly will you learn well let's break it down first there's digital tools for Humanity's research which is your new digital Swiss army knife then there's data visualization in Humanities making centuries of culture visually digestible then there's text analysis and Mining which is uncovering hidden patterns and vast amounts of text then you've got digital mapping and spatial analysis which is putting history and culture on the map literally and then you've got digital preservation and curation which is safeguarding our cultural heritage in the digital age now you might be wondering why should I care about digital Humanities why well let me ask you this have you ever wondered what Shakespeare's social network looked like or how the sentiment in Jane Austin's novel changed over time or maybe you're curious about how the language and Hip-Hop lyrics has evolved over the decades well digital Humanities gives you the tool to answer these questions and so many more so it's kind of like having a time machine and a supercomputer rolled into one but don't just take my word for it let's hear from someone who's ventured into this digital cultural Frontier as a history major I was skeptical about bringing technology into my studies but this course opened my eyes to a whole new world of possibilities and I'm now using network analysis to study the spread of ideas during the Enlightenment it's it's like being a historical detective with a really cool magnifying glass but why is digital Humanities important in today's job market well according to a 2023 report by the American Academy of Arts and Sciences employers are increasingly looking for graduates who can bridge the gap between technology and Humanities they want people who can not only crunch numbers but can also understand their cultural context in other words digital Humanities graduates are like Swiss Army knives of the job market they can code they can analyze and they can tell compelling stories with data so whether you're interested in journalism history or data analysis Anis or even Tech entrepreneurship the skills you learn in this course will give you a Unique Edge but with that being said this is one that may not directly get you a job and that's where companies like corsera come in where their certifications directly do help you to get a job and I've talked about them on this channel before I've actually done tier lists and Top 10 rankings Etc some of the professional certificates on corsera you can actually audit for free and in order to get the searchs it's usually only $40 to $50 per month so definitely check those out because the first 7 days is free regardless of what you do and I'll put those down the description in the pin comment below so click down there now let's move on to a course that's going to turn you into a modern-day Cicero get ready to master the art of persuasion and this is the art of persuasive writing and public speaking now before you run away thinking this is just about fancy words and long speeches let me stop you right there this course is about to turn you into a communication superhero and the older I get the more important that I realize communication is with all the stuff that's happening with AI there's no way that AI can make you a better Communicator that's something you just have to practice and learn on your own because rhetoric isn't just for politicians and lawyers it's a superpower that can boost your career in any field whether you're pitching an idea to your boss presenting a project to your client asking for a raise or asking your significant other to take the trash out the art of persuasion is your secret weapon so what exactly will you learn in this course well let's break it down first we got the three pillars of rhetoric ethos posos and logos which are your new best friends then you've got crafting compelling arguments because facts alone don't always cut it then you've got the power of storytelling turning dry information into captivating narratives then you've got body language and vocal techniques because how you say it is as important as what you say because one size doesn't fit all when it comes to communication I'm not a natural public speaker is this course really for me well let me let you in on a little secret most great communicators weren't born that way they learned and practice these skills and as the famous orator cisero once said the skill of speaking is not given to anyone and yet it can be acquired by everyone but don't take my word for it let's hear from someone who's been through this rhetoric boot camp before this course I was terrified of public speaking my palms would sweat my voice would shake and my mind would go blank but learning the principles of rhetoric changed everything I recently gave a presentation at work that led to a promotion and it's like I've been given a superpower but why is rhetoric so important in today's job market well according to a 2023 survey by the National Association of colleges and employers communication skills are the most sought after quality by employers ranking even higher than technical skills in many fields in other words being able to communicate effectively isn't just a nice have skill it's a musthave it's the difference between having great ideas and having great ideas that get implemented it's the secret sauce that can take your career from good to great but here's the real magic of rhetoric it's not just about speaking it's about thinking as you learn to construct your own arguments and analyze others persuasive techniques you'll find yourself becoming a more critical thinker you'll be able to see through flashy but empty arguments and craft more compelling ones of your own and the best part you can practice these skills every day every email you write every meeting you attend every conversation you have is an opportunity to apply what you learn in this course and as the philosopher Aristotle once said we are what we repeatedly do Excellence then is not an act but a habit so are you ready to become a master of persuasion remember in the world of rhetoric your words are your wand your voice is your superpower and every conversation is an opportunity to change minds and in some cases Hearts now let's dive into our final course which is going to turn you into a digital wizard get ready to enter the fascinating world of artificial intelligence welcome to the course that's going to make you feel like you're living in the future introduction to artificial intelligence with python now I know what you're thinking AI isn't that just about robots taking over the world well hold on to your neural networks because AI is so much more than that it's the technology behind your smartphone's Voice Assistant the recommendation algorithms of your favorite streaming service and even the systems that detect fraudulent transactions on your credit card in short AI is everywhere and this course is your ticket to understanding and creating it so what exactly will you learn in this course well let's break it down first of all you got Python Programming the language of AI Wizards then you've got search algorithms teaching computers to find the best Solutions then you've got knowledge representation which is how to make computers think then you've got machine learning which is giving computers the ability to learn from data and then you've got one that's very exciting which is neural networks the building blocks of deep learning and then you've got natural language processing which is helping others understand and generate human language now you might be thinking this sounds complicated do I need to be a math genius to take this course and the answer is a resounding no while some mathem matical concepts are involved the course is designed to be accessible to beginners and as the famous computer scientist Alan Turing once said we can only see a short distance ahead but we can see plenty there that needs to be done but don't just take my word for it let's hear from someone who's ventured into the AI Frontier before this course AI seemed like magic to me now I understand the principles behind it and can even create my own AI models I recently used what I learned to develop a chatbot for my company's customer service and it's been a game changer but why should you care about AI well according to a 2023 report Ai and machine learning Specialists are among the top 10 jobs with increasing demand the report predicts that by 2025 85 million jobs may be displaced by a shift in the division of labor and this division of labor is of course between humans and machines but 97 million new roles May emerge that are more adapted to this new division of labor in other words AI isn't just a cool technology it's reshaping the job market so by learning AI you're not just picking up a new skill you're future proofing your career so whether you're in healthcare Finance marketing or pretty much any other field understanding AI can give you a significant Edge but here's the real magic of AI it's not just about creating smart machines it's about solving complex problems in innovative ways as you learn to develop AI systems you'll find yourself approaching problems differently thinking more systematically and seeing patterns where others see chaos and the best part this course gives you hands-on experience you'll be coding your own AI systems from game playing agents to image recognition algorithms and as the famous computer scientist fay F Lee said if you want to make AI robust and a great technology for Humanity you've got to make it diverse so are you ready to become an AI wizard remember in the world of AI every problem is an opportunity every data set a treasure Trove and every algorithm a step toward the future so yeah these five courses are phenomenal but they may not help you directly get a job they'll teach you the underlying skills that will indirectly get you a job and they may teach you skills that will make you make way more money in the future but if you want to check out a video on training and certifications that will directly help you get a job definitely check out that video of the best corsera Sears and you can check that out by clicking right here\""
            ],
            "application/vnd.google.colaboratory.intrinsic+json": {
              "type": "string"
            }
          },
          "metadata": {},
          "execution_count": 3
        }
      ]
    },
    {
      "cell_type": "code",
      "source": [
        "messages = [\n",
        "    (\n",
        "        \"system\",\n",
        "        \"\"\"Read through the entire transcript carefully.\n",
        "           Provide a concise summary of the video's main topic and purpose.\n",
        "           Extract and list the five most interesting or important points from the transcript. For each point: State the key idea in a clear and concise manner.\n",
        "\n",
        "        - Ensure your summary and key points capture the essence of the video without including unnecessary details.\n",
        "        - Use clear, engaging language that is accessible to a general audience.\n",
        "        - If the transcript includes any statistical data, expert opinions, or unique insights, prioritize including these in your summary or key points.\"\"\",\n",
        "    ),\n",
        "    (\"human\", data[0].page_content),\n",
        "]\n",
        "ai_msg = llm.invoke(messages)\n",
        "ai_msg"
      ],
      "metadata": {
        "colab": {
          "base_uri": "https://localhost:8080/"
        },
        "id": "B-3Es39z9XQH",
        "outputId": "1b062c38-7c6f-4f3f-e62c-36db6a8bcd02"
      },
      "execution_count": 7,
      "outputs": [
        {
          "output_type": "execute_result",
          "data": {
            "text/plain": [
              "AIMessage(content=\"**Summary:**\\n\\nThe video discusses five free online courses from Harvard University that can help individuals boost their careers. The courses cover various topics, including computer science, data science, digital humanities, persuasive writing and public speaking, and artificial intelligence. These courses are designed to be accessible to beginners and can help individuals develop valuable skills that are in high demand in the job market.\\n\\n**Key Points:**\\n\\n1. **CS50 Introduction to Computer Science**: This course is a comprehensive introduction to computer science, covering topics such as programming languages, data structures, and algorithms. It's designed for beginners and can help individuals develop a problemsolving mindset that can be applied to any field.\\n\\n2. **R Basics and Data Science**: This course teaches the basics of the R programming language and data science, covering topics such as data types, vectors, and data visualization. It's a great course for individuals who want to learn data science and become a data Dynamo.\\n\\n3. **Digital Humanities**: This course explores the intersection of technology and culture, covering topics such as digital tools, data visualization, and text analysis. It's a great course for individuals who want to learn how to analyze and present cultural data in a compelling way.\\n\\n4. **The Art of Persuasive Writing and Public Speaking**: This course teaches the principles of rhetoric, covering topics such as ethos, pathos, and logos. It's a great course for individuals who want to learn how to communicate effectively and persuade others.\\n\\n5. **Introduction to Artificial Intelligence with Python**: This course teaches the basics of artificial intelligence, covering topics such as search algorithms, knowledge representation, and machine learning. It's a great course for individuals who want to learn how to develop AI systems and solve complex problems in innovative ways.\\n\\nThese courses are all free and can be taken at your own pace, making them a great resource for individuals who want to learn new skills and boost their careers.\", additional_kwargs={'refusal': None}, response_metadata={'token_usage': {'completion_tokens': 385, 'prompt_tokens': 3515, 'total_tokens': 3900, 'completion_tokens_details': None, 'prompt_tokens_details': None, 'cached_tokens': 0}, 'model_name': 'meta-llama/Meta-Llama-3.1-8B-Instruct-Turbo', 'system_fingerprint': None, 'id': 'nxSJPP5-2j9zxn-94d11aa599bf894a', 'service_tier': None, 'finish_reason': 'stop', 'logprobs': None}, id='run--dfc6415c-0d55-4fc5-b949-150fbf12bf6b-0', usage_metadata={'input_tokens': 3515, 'output_tokens': 385, 'total_tokens': 3900, 'input_token_details': {}, 'output_token_details': {}})"
            ]
          },
          "metadata": {},
          "execution_count": 7
        }
      ]
    },
    {
      "cell_type": "code",
      "source": [
        "from langchain.prompts import PromptTemplate\n",
        "from langchain import LLMChain\n",
        "\n",
        "# Define a PromptTemplate for summarizing video transcripts\n",
        "# The template includes instructions for the AI model on how to process the transcript\n",
        "product_description_template = PromptTemplate(\n",
        "    input_variables=[\"video_transcript\"],\n",
        "    template=\"\"\"\n",
        "    Read through the entire transcript carefully.\n",
        "           Provide a concise summary of the video's main topic and purpose.\n",
        "           Extract and list the five most interesting or important points from the transcript.\n",
        "           For each point: State the key idea in a clear and concise manner.\n",
        "\n",
        "        - Ensure your summary and key points capture the essence of the video without including unnecessary details.\n",
        "        - Use clear, engaging language that is accessible to a general audience.\n",
        "        - If the transcript includes any statistical data, expert opinions, or unique insights,\n",
        "        prioritize including these in your summary or key points.\n",
        "\n",
        "    Video transcript: {video_transcript}    \"\"\"\n",
        ")"
      ],
      "metadata": {
        "id": "DzWFmD3B9g_z"
      },
      "execution_count": 8,
      "outputs": []
    },
    {
      "cell_type": "code",
      "source": [
        "## invoke the chain with the video transcript\n",
        "chain = LLMChain(llm=llm, prompt=product_description_template)\n",
        "\n",
        "# Run the chain with the provided product details\n",
        "summary = chain.invoke({\n",
        "    \"video_transcript\": data[0].page_content\n",
        "})"
      ],
      "metadata": {
        "colab": {
          "base_uri": "https://localhost:8080/"
        },
        "id": "c5m9ymoW9jwp",
        "outputId": "cdb1f3ad-8539-498a-9d00-aec053ca1ee2"
      },
      "execution_count": 9,
      "outputs": [
        {
          "output_type": "stream",
          "name": "stderr",
          "text": [
            "<ipython-input-9-f9de8f4629dd>:2: LangChainDeprecationWarning: The class `LLMChain` was deprecated in LangChain 0.1.17 and will be removed in 1.0. Use :meth:`~RunnableSequence, e.g., `prompt | llm`` instead.\n",
            "  chain = LLMChain(llm=llm, prompt=product_description_template)\n"
          ]
        }
      ]
    },
    {
      "cell_type": "code",
      "source": [
        "summary['text']\n"
      ],
      "metadata": {
        "colab": {
          "base_uri": "https://localhost:8080/",
          "height": 178
        },
        "id": "OE0uStth9lic",
        "outputId": "0028c4b8-da74-4d22-d1af-621a75ca6cef"
      },
      "execution_count": 10,
      "outputs": [
        {
          "output_type": "execute_result",
          "data": {
            "text/plain": [
              "\"**Summary:**\\n\\nThe video discusses five free online courses from Harvard University that can help individuals boost their careers. The courses cover various topics, including computer science, data science, digital humanities, persuasive writing and public speaking, and artificial intelligence. These courses are designed to be accessible to beginners and can help individuals develop valuable skills that can be applied to various fields.\\n\\n**Key Points:**\\n\\n1. **CS50 Introduction to Computer Science**: This course is a comprehensive introduction to computer science, covering topics such as programming languages, data structures, and algorithms. It's designed for beginners and has been taken by over 3.7 million people worldwide.\\n\\nKey Idea: CS50 is a beginner-friendly course that can help individuals develop a problemsolving mindset and computational thinking skills.\\n\\n2. **R Basics for Data Science**: This course teaches the basics of R programming language, which is used for data analysis and visualization. It's part of Harvard's professional certificate in data science program and can help individuals become data-driven professionals.\\n\\nKey Idea: R is a versatile and powerful language that can help individuals analyze and visualize data, and it's a valuable skill in today's job market.\\n\\n3. **Digital Humanities**: This course explores the intersection of technology and humanities, covering topics such as digital tools, data visualization, and text analysis. It's designed to help individuals become cultural codebreakers and develop skills that can be applied to various fields.\\n\\nKey Idea: Digital humanities is a field that combines technology and humanities, and it can help individuals develop skills that are valuable in today's job market.\\n\\n4. **The Art of Persuasive Writing and Public Speaking**: This course teaches the principles of rhetoric, which can help individuals become effective communicators and persuasive writers. It's designed to help individuals develop skills that can be applied to various fields, including business, politics, and education.\\n\\nKey Idea: Rhetoric is a valuable skill that can help individuals become effective communicators and persuasive writers, and it's a must-have in today's job market.\\n\\n5. **Introduction to Artificial Intelligence with Python**: This course teaches the basics of artificial intelligence, covering topics such as search algorithms, knowledge representation, and machine learning. It's designed to help individuals become AI wizards and develop skills that can be applied to various fields.\\n\\nKey Idea: AI is a rapidly growing field that can help individuals develop skills that are valuable in today's job market, and it's not just about creating smart machines, but also solving complex problems in innovative ways.\""
            ],
            "application/vnd.google.colaboratory.intrinsic+json": {
              "type": "string"
            }
          },
          "metadata": {},
          "execution_count": 10
        }
      ]
    },
    {
      "cell_type": "code",
      "source": [
        "from IPython.display import Markdown, display\n",
        "\n",
        "display(Markdown(summary['text']))"
      ],
      "metadata": {
        "colab": {
          "base_uri": "https://localhost:8080/",
          "height": 563
        },
        "id": "XYd51sKs9oPb",
        "outputId": "2e0e801f-7a97-42bc-9164-fc1d9faab028"
      },
      "execution_count": 11,
      "outputs": [
        {
          "output_type": "display_data",
          "data": {
            "text/plain": [
              "<IPython.core.display.Markdown object>"
            ],
            "text/markdown": "**Summary:**\n\nThe video discusses five free online courses from Harvard University that can help individuals boost their careers. The courses cover various topics, including computer science, data science, digital humanities, persuasive writing and public speaking, and artificial intelligence. These courses are designed to be accessible to beginners and can help individuals develop valuable skills that can be applied to various fields.\n\n**Key Points:**\n\n1. **CS50 Introduction to Computer Science**: This course is a comprehensive introduction to computer science, covering topics such as programming languages, data structures, and algorithms. It's designed for beginners and has been taken by over 3.7 million people worldwide.\n\nKey Idea: CS50 is a beginner-friendly course that can help individuals develop a problemsolving mindset and computational thinking skills.\n\n2. **R Basics for Data Science**: This course teaches the basics of R programming language, which is used for data analysis and visualization. It's part of Harvard's professional certificate in data science program and can help individuals become data-driven professionals.\n\nKey Idea: R is a versatile and powerful language that can help individuals analyze and visualize data, and it's a valuable skill in today's job market.\n\n3. **Digital Humanities**: This course explores the intersection of technology and humanities, covering topics such as digital tools, data visualization, and text analysis. It's designed to help individuals become cultural codebreakers and develop skills that can be applied to various fields.\n\nKey Idea: Digital humanities is a field that combines technology and humanities, and it can help individuals develop skills that are valuable in today's job market.\n\n4. **The Art of Persuasive Writing and Public Speaking**: This course teaches the principles of rhetoric, which can help individuals become effective communicators and persuasive writers. It's designed to help individuals develop skills that can be applied to various fields, including business, politics, and education.\n\nKey Idea: Rhetoric is a valuable skill that can help individuals become effective communicators and persuasive writers, and it's a must-have in today's job market.\n\n5. **Introduction to Artificial Intelligence with Python**: This course teaches the basics of artificial intelligence, covering topics such as search algorithms, knowledge representation, and machine learning. It's designed to help individuals become AI wizards and develop skills that can be applied to various fields.\n\nKey Idea: AI is a rapidly growing field that can help individuals develop skills that are valuable in today's job market, and it's not just about creating smart machines, but also solving complex problems in innovative ways."
          },
          "metadata": {}
        }
      ]
    }
  ]
}